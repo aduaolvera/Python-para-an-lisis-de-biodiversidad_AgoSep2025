{
 "cells": [
  {
   "cell_type": "markdown",
   "id": "6e9efdbc",
   "metadata": {},
   "source": [
    "# Normality tests\n",
    "\n",
    "En este ejercicio evaluamos la normalidad de las variables químicas usando pruebas estadísticas:\n",
    "\n",
    "- **Shapiro–Wilk test**: recomendado para tamaños de muestra pequeños/medianos (n < 5000).  \n",
    "- **Kolmogorov–Smirnov test**: puede usarse en muestras grandes, comparando la distribución empírica con una distribución de referencia (ej. normal estándar).  \n"
   ]
  },
  {
   "cell_type": "code",
   "execution_count": 1,
   "id": "22073e37",
   "metadata": {},
   "outputs": [
    {
     "name": "stdout",
     "output_type": "stream",
     "text": [
      "   sample      date     estuary   area station layer_depth season  \\\n",
      "0  CDL01S  5/3/2020  Candelaria  River   CDL01     Surface    Dry   \n",
      "1  CDL01F  5/3/2020  Candelaria  River   CDL01      Bottom    Dry   \n",
      "2  CDL02S  5/3/2020  Candelaria  River   CDL02     Surface    Dry   \n",
      "3  CDL02F  5/3/2020  Candelaria  River   CDL02      Bottom    Dry   \n",
      "4  CDL03S  5/3/2020  Candelaria  River   CDL03     Surface    Dry   \n",
      "\n",
      "   chlorophy_microg_l  cond_microsiemens_cm  depth_m  ...  do_mg_l  sal_psu  \\\n",
      "0                0.36                7015.4    0.464  ...     7.12     3.56   \n",
      "1                4.19               29886.1    7.792  ...     4.90    16.97   \n",
      "2                0.92               16691.1    0.453  ...     6.99     8.94   \n",
      "3                2.23               24847.4    1.261  ...     6.52    13.87   \n",
      "4                0.58               46341.6    0.465  ...     6.24    28.06   \n",
      "\n",
      "   sp_cond_microsiemens_cm  turbidity_fnu  temp_c  latitude  longitude  \\\n",
      "0                   6547.7           1.47  28.740  18.55736  -91.25012   \n",
      "1                  27751.2          95.33  29.028  18.55722  -91.24990   \n",
      "2                  15429.1           5.50  29.283  18.61007  -91.24410   \n",
      "3                  23074.0          13.44  29.024  18.61005  -91.24403   \n",
      "4                  43670.8           3.60  28.202  18.63166  -91.29359   \n",
      "\n",
      "   dic_micromol_kg  ta_micromol_kg  dummy_data  \n",
      "0             3915            3863      3685.0  \n",
      "1             3698            3685         NaN  \n",
      "2             3724            3708      3708.0  \n",
      "3             3667            3992      3992.0  \n",
      "4             2928            3023      3023.0  \n",
      "\n",
      "[5 rows x 21 columns]\n"
     ]
    }
   ],
   "source": [
    "def import_csv(file):\n",
    "    import pandas as pd\n",
    "    return pd.read_csv(file)\n",
    "\n",
    "# Ruta\n",
    "path = \"../data/Terminos_lagoon_TA_DIC_2023_RawData.csv\"\n",
    "CO2Data = import_csv(path)\n",
    "\n",
    "print(CO2Data.head())\n"
   ]
  },
  {
   "cell_type": "markdown",
   "id": "d8febd30",
   "metadata": {},
   "source": [
    "## Shapiro–Wilk test\n",
    "\n",
    "Regla:  \n",
    "- Si p > 0.05 → no se rechaza H₀, los datos **son compatibles con normalidad**.  \n",
    "- Si p ≤ 0.05 → se rechaza H₀, los datos **no son normales**.  \n"
   ]
  },
  {
   "cell_type": "code",
   "execution_count": 2,
   "id": "9f1acf1f",
   "metadata": {},
   "outputs": [
    {
     "name": "stdout",
     "output_type": "stream",
     "text": [
      "Shapiro–Wilk para TA: estadístico=0.87971, p-valor=0.00000\n",
      "✘ La distribución NO es normal (se rechaza H₀)\n"
     ]
    }
   ],
   "source": [
    "from scipy.stats import shapiro\n",
    "\n",
    "ta = CO2Data['ta_micromol_kg'].dropna()  # quitamos NaNs para evitar errores\n",
    "\n",
    "stat, p = shapiro(ta)\n",
    "print(f\"Shapiro–Wilk para TA: estadístico={stat:.5f}, p-valor={p:.5f}\")\n",
    "\n",
    "if p > 0.05:\n",
    "    print(\"✔ La distribución es normal (no se rechaza H₀)\")\n",
    "else:\n",
    "    print(\"✘ La distribución NO es normal (se rechaza H₀)\")\n"
   ]
  },
  {
   "cell_type": "markdown",
   "id": "fb2a00b6",
   "metadata": {},
   "source": [
    "## Ejercicio\n",
    "\n",
    "**Pregunta**:  \n",
    "¿Cuándo es apropiado usar el **Kolmogorov–Smirnov test** en lugar del Shapiro–Wilk?  \n",
    "\n",
    "- Shapiro–Wilk es más potente para detectar desviaciones de normalidad, pero puede ser inadecuado en muestras muy grandes (>5000).  \n",
    "- En muestras grandes, el **Kolmogorov–Smirnov** (KS) puede ser preferido, comparando la muestra con una distribución normal teórica.  \n",
    "\n",
    "Ahora probamos normalidad en las variables **DIC** y **Salinidad**.\n"
   ]
  },
  {
   "cell_type": "code",
   "execution_count": 3,
   "id": "2ec945fd",
   "metadata": {},
   "outputs": [
    {
     "name": "stdout",
     "output_type": "stream",
     "text": [
      "KS test para DIC: estadístico=0.18253, p-valor=0.00146\n",
      "→ No normal\n",
      "\n",
      "KS test para Salinidad: estadístico=0.15157, p-valor=0.01366\n",
      "→ No normal\n"
     ]
    }
   ],
   "source": [
    "from scipy.stats import kstest, norm\n",
    "\n",
    "# Selección de datos (quitamos NaN)\n",
    "dic = CO2Data['dic_micromol_kg'].dropna()\n",
    "sal = CO2Data['sal_psu'].dropna()\n",
    "\n",
    "# Normalizamos datos (KS requiere comparar con N(0,1))\n",
    "dic_std = (dic - dic.mean()) / dic.std(ddof=0)\n",
    "sal_std = (sal - sal.mean()) / sal.std(ddof=0)\n",
    "\n",
    "# Kolmogorov–Smirnov test\n",
    "ks_dic = kstest(dic_std, 'norm')\n",
    "ks_sal = kstest(sal_std, 'norm')\n",
    "\n",
    "print(f\"KS test para DIC: estadístico={ks_dic.statistic:.5f}, p-valor={ks_dic.pvalue:.5f}\")\n",
    "print(\"→ Normal\" if ks_dic.pvalue > 0.05 else \"→ No normal\")\n",
    "\n",
    "print(f\"\\nKS test para Salinidad: estadístico={ks_sal.statistic:.5f}, p-valor={ks_sal.pvalue:.5f}\")\n",
    "print(\"→ Normal\" if ks_sal.pvalue > 0.05 else \"→ No normal\")\n"
   ]
  }
 ],
 "metadata": {
  "kernelspec": {
   "display_name": "environmental_python",
   "language": "python",
   "name": "python3"
  },
  "language_info": {
   "codemirror_mode": {
    "name": "ipython",
    "version": 3
   },
   "file_extension": ".py",
   "mimetype": "text/x-python",
   "name": "python",
   "nbconvert_exporter": "python",
   "pygments_lexer": "ipython3",
   "version": "3.10.18"
  }
 },
 "nbformat": 4,
 "nbformat_minor": 5
}
