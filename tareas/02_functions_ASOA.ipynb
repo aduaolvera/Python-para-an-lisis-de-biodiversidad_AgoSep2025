{
 "cells": [
  {
   "cell_type": "markdown",
   "id": "367f3784",
   "metadata": {},
   "source": [
    "# Tutorial de funciones de Python\n",
    "En Python, una función es un grupo de afirmaciones relacionadas que realizan una tarea específica. Las funciones permiten dividir nuestro programa en partes más pequeñas y modulares. Esto permite hacer más manejable y organizado el programa."
   ]
  },
  {
   "cell_type": "markdown",
   "id": "3dbc311a",
   "metadata": {},
   "source": [
    "# Ejercicios\n"
   ]
  },
  {
   "cell_type": "markdown",
   "id": "1b2e8165",
   "metadata": {},
   "source": [
    "### Ejercicio 1. Cuadrado del valor absoluto\n",
    "Primero calculo el valor absoluto, después el cuadrado. Este valor absoluto definido es el que vamos a usar en el resto de ejercicios.\n",
    "\n",
    "Definimos:  \n",
    "\n",
    "$$ F(x) = |x| $$\n",
    "$$ G(x) = x^2 $$\n",
    "\n",
    "Entonces, al componer:  \n",
    "\n",
    "$$ G(F(x)) = (|x|)^2 $$"
   ]
  },
  {
   "cell_type": "code",
   "execution_count": 1,
   "id": "0ae3aef1",
   "metadata": {},
   "outputs": [
    {
     "name": "stdout",
     "output_type": "stream",
     "text": [
      "49\n",
      "225\n"
     ]
    }
   ],
   "source": [
    "def absoluto(n):\n",
    "    return n if n >= 0 else -n\n",
    "\n",
    "def cuadrado(n):\n",
    "    return n * n\n",
    "\n",
    "def cuadrado_absoluto(n):\n",
    "    return cuadrado(absoluto(n))\n",
    "\n",
    "print(cuadrado_absoluto(-7))  \n",
    "print(cuadrado_absoluto(15))   \n"
   ]
  },
  {
   "cell_type": "markdown",
   "id": "298cc512",
   "metadata": {},
   "source": [
    "### Ejercicio 2. Absoluto de la resta\n",
    "Primero resto dos números, después saco su valor absoluto\n",
    "Definimos:  \n",
    "\n",
    "$$ F(a, b) = a - b $$\n",
    "$$ G(x) = |x| $$\n",
    "\n",
    "Entonces, al componer:  \n",
    "\n",
    "$$ G(F(a, b)) = |\\,a - b\\,| $$"
   ]
  },
  {
   "cell_type": "code",
   "execution_count": 2,
   "id": "041d4a2e",
   "metadata": {},
   "outputs": [
    {
     "name": "stdout",
     "output_type": "stream",
     "text": [
      "1\n",
      "6\n"
     ]
    }
   ],
   "source": [
    "def resta(a, b):\n",
    "    return a - b\n",
    "\n",
    "def absoluto_resta(a, b):\n",
    "    return absoluto(resta(a, b))\n",
    "\n",
    "print(absoluto_resta(7, 8))   \n",
    "print(absoluto_resta(10, 4))  \n"
   ]
  },
  {
   "cell_type": "markdown",
   "id": "bd71abdb",
   "metadata": {},
   "source": [
    "### Ejercicio 3. Absoluto de la suma\n",
    "Primero sumo dos números, después saco su valor absoluto.\n",
    "\n",
    "Definimos:  \n",
    "\n",
    "$$ F(a, b) = a + b $$\n",
    "$$ G(x) = |x| $$\n",
    "\n",
    "Entonces, al componer:  \n",
    "\n",
    "$$ G(F(a, b)) = |\\,a + b\\,| $$"
   ]
  },
  {
   "cell_type": "code",
   "execution_count": null,
   "id": "4ce96971",
   "metadata": {},
   "outputs": [
    {
     "name": "stdout",
     "output_type": "stream",
     "text": [
      "5\n",
      "15\n"
     ]
    }
   ],
   "source": [
    "def suma(a, b):\n",
    "    return a + b\n",
    "\n",
    "def absoluto_suma(a, b):\n",
    "    return absoluto(suma(a, b))\n",
    "\n",
    "print(absoluto_suma(-8, 3))   \n",
    "print(absoluto_suma(7, 8))    \n"
   ]
  },
  {
   "cell_type": "markdown",
   "id": "e7c1e201",
   "metadata": {},
   "source": [
    "### Ejercicio 4. Absoluto del doble\n",
    "Primero pongo un número al doble y luego saco su valor absoluto\n",
    "\n",
    "### Ejemplo 4: Absoluto del doble  \n",
    "\n",
    "Definimos:  \n",
    "\n",
    "$$ F(x) = 2x $$\n",
    "$$ G(x) = |x| $$\n",
    "\n",
    "Entonces, al componer:  \n",
    "\n",
    "$$ G(F(x)) = |\\,2x\\,| $$\n"
   ]
  },
  {
   "cell_type": "code",
   "execution_count": 4,
   "id": "314152ce",
   "metadata": {},
   "outputs": [
    {
     "name": "stdout",
     "output_type": "stream",
     "text": [
      "14\n",
      "118\n"
     ]
    }
   ],
   "source": [
    "def doble(x):\n",
    "    return 2 * x\n",
    "\n",
    "def absoluto_doble(x):\n",
    "    return absoluto(doble(x))\n",
    "\n",
    "print(absoluto_doble(-7))  \n",
    "print(absoluto_doble(59))   \n"
   ]
  },
  {
   "cell_type": "markdown",
   "id": "86dc8a58",
   "metadata": {},
   "source": [
    "### Ejercicio 5: Composición de cuadrado y raíz cuadrada\n",
    "En matemáticas definimos dos funciones:\n",
    "\n",
    "$$ F(x) = x^2 $$\n",
    "$$ G(x) = \\sqrt{x} $$\n",
    "\n",
    "Entonces, al componerlas:\n",
    "\n",
    "$$ F(G(x)) = (\\sqrt{x})^2 = x $$\n",
    "$$ G(F(x)) = \\sqrt{x^2} = |x| $$"
   ]
  },
  {
   "cell_type": "code",
   "execution_count": 5,
   "id": "f2cf7c94",
   "metadata": {},
   "outputs": [
    {
     "name": "stdout",
     "output_type": "stream",
     "text": [
      "11.0\n",
      "11.0\n"
     ]
    }
   ],
   "source": [
    "# Función que eleva al cuadrado\n",
    "def cuadrado(x):\n",
    "    return x * x\n",
    "\n",
    "# Función raíz cuadrada\n",
    "def raiz_cuadrada(x):\n",
    "    return x ** 0.5   # usar potencia en lugar de math.sqrt\n",
    "\n",
    "# Composición F(G(x)) = (sqrt(x))^2\n",
    "def cuadrado_de_raiz(x):\n",
    "    return cuadrado(raiz_cuadrada(x))\n",
    "\n",
    "# Composición G(F(x)) = sqrt(x^2) = |x|\n",
    "def raiz_de_cuadrado(x):\n",
    "    return raiz_cuadrada(cuadrado(x))\n",
    "\n",
    "print(cuadrado_de_raiz(11))   \n",
    "print(raiz_de_cuadrado(-11))  \n"
   ]
  }
 ],
 "metadata": {
  "kernelspec": {
   "display_name": "environmental_python",
   "language": "python",
   "name": "python3"
  },
  "language_info": {
   "codemirror_mode": {
    "name": "ipython",
    "version": 3
   },
   "file_extension": ".py",
   "mimetype": "text/x-python",
   "name": "python",
   "nbconvert_exporter": "python",
   "pygments_lexer": "ipython3",
   "version": "3.10.18"
  }
 },
 "nbformat": 4,
 "nbformat_minor": 5
}
