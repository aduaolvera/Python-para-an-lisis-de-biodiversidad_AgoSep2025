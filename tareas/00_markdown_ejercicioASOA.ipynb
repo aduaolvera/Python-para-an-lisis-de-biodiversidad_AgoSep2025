{
 "cells": [
  {
   "cell_type": "markdown",
   "id": "6f929479",
   "metadata": {},
   "source": [
    "\n",
    "\n",
    "# Markdown \n",
    "\n",
    "Markdown is a lightweight markup language that you can use to add formatting elements to plaintext text documents.\n",
    "\n",
    "## Encabezados\n",
    "\n",
    "You can create a header by using the `#` symbol. The number of `#` you use will determine the size of the header.\n",
    "\n",
    "# Encabezado 1\n",
    "## Encabezado 2\n",
    "### Encabezado 3\n",
    "\n",
    "*Este texto va a estar en cursivas*  \n",
    "**Este texto va a estar en negritas**\n",
    "\n",
    "## Use Markdown to create a link to:\n",
    "\n",
    "1. [Google](https://www.google.com)  \n",
    "2. [The **GitHub** homepage.](https://github.com/gilbertoCM/env_data_analysis_course)\n",
    "\n",
    "---\n",
    "\n",
    "## Blockquotes\n",
    "\n",
    "To create a blockquote, add a > in front of a paragraph.\n",
    "\n",
    "> Dorothy followed her through many of the beautiful rooms in her castle.\n",
    "\n",
    "> Blockquotes with Multiple Paragraphs  \n",
    ">\n",
    "> The Witch bade her clean the pots and kettles and sweep the floor and keep the fire fed with wood.\n",
    "\n",
    "## Hacer listados\n",
    "- primer elemento\n",
    "- segundo elemento\n",
    "- tercer elemento \n",
    "\n",
    "## Agregar imágenes\n",
    "\n",
    "![Orcas saltando](img/orcas.jpg)\n",
    "\n",
    "## Links de referencias\n",
    "\n",
    "Visita [Noticias del mundo][bbc] o revisa [Datos sobre orcas][orcas].\n",
    "\n",
    "[bbc]: https://www.bbc.com/mundo\n",
    "[orcas]: https://wwhandbook.iwc.int/es/species/killer-whale\n",
    "\n",
    "\n"
   ]
  }
 ],
 "metadata": {
  "language_info": {
   "name": "python"
  }
 },
 "nbformat": 4,
 "nbformat_minor": 5
}
