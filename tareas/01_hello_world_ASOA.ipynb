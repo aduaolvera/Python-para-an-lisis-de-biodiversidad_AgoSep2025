{
 "cells": [
  {
   "cell_type": "markdown",
   "id": "db172406",
   "metadata": {},
   "source": [
    "# Ejercicio 01: ¡Hello, World!\n",
    "\n",
    "Python es un lenguaje de programación poderoso y fácil de aprender.  \n",
    "El primer programa que normalmente se escribe sirve únicamente para mostrar en pantalla el mensaje clásico **“Hello, World!”**."
   ]
  },
  {
   "cell_type": "markdown",
   "id": "37793356",
   "metadata": {},
   "source": [
    "## Parte 1: Imprimir \"Hello, World!\"\n",
    "\n",
    "Se creó un script sencillo en Python que imprime el mensaje en consola:\n"
   ]
  },
  {
   "cell_type": "code",
   "execution_count": 1,
   "id": "f544364d",
   "metadata": {},
   "outputs": [
    {
     "name": "stdout",
     "output_type": "stream",
     "text": [
      "Hello, World!\n"
     ]
    }
   ],
   "source": [
    "# Hello, World!\n",
    "print(\"Hello, World!\")"
   ]
  },
  {
   "cell_type": "markdown",
   "id": "ba9cde2b",
   "metadata": {},
   "source": [
    "## Parte 2: Operaciones aritméticas simples\n",
    "\n",
    "Después, se creó un script en Python que realizó las siguientes operaciones con los números 8 y 7:\n",
    "\n",
    "1. Suma  \n",
    "2. Resta  \n",
    "3. Multiplicación  \n",
    "4. División  \n",
    "\n",
    "Cada resultado se imprime directamente en la consola."
   ]
  },
  {
   "cell_type": "code",
   "execution_count": 2,
   "id": "900ea9f7",
   "metadata": {},
   "outputs": [
    {
     "name": "stdout",
     "output_type": "stream",
     "text": [
      "Suma: 15\n",
      "Resta: 1\n",
      "Multiplicación: 56\n",
      "División: 1.1428571428571428\n"
     ]
    }
   ],
   "source": [
    "# Definición de variables\n",
    "a = 8\n",
    "b = 7\n",
    "\n",
    "# Operaciones básicas\n",
    "print(\"Suma:\", a + b)\n",
    "print(\"Resta:\", a - b)\n",
    "print(\"Multiplicación:\", a * b)\n",
    "print(\"División:\", a / b)"
   ]
  },
  {
   "cell_type": "markdown",
   "id": "04a89d44",
   "metadata": {},
   "source": [
    "Con este ejercicio practiqué:\n",
    "- Cómo imprimir mensajes en Python.  \n",
    "- Cómo definir variables y usarlas en operaciones.  \n",
    "- Cómo mostrar resultados directamente en consola. "
   ]
  }
 ],
 "metadata": {
  "kernelspec": {
   "display_name": "environmental_python",
   "language": "python",
   "name": "python3"
  },
  "language_info": {
   "codemirror_mode": {
    "name": "ipython",
    "version": 3
   },
   "file_extension": ".py",
   "mimetype": "text/x-python",
   "name": "python",
   "nbconvert_exporter": "python",
   "pygments_lexer": "ipython3",
   "version": "3.10.18"
  }
 },
 "nbformat": 4,
 "nbformat_minor": 5
}
